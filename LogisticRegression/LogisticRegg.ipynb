{
 "cells": [
  {
   "cell_type": "code",
   "execution_count": null,
   "id": "86e42a80",
   "metadata": {},
   "outputs": [],
   "source": [
    "import numpy as np\n",
    "import pandas as pd\n",
    "import matplotlib.pyplot as plt\n",
    "import seaborn as sns"
   ]
  },
  {
   "cell_type": "code",
   "execution_count": null,
   "id": "e2123bfa",
   "metadata": {},
   "outputs": [],
   "source": [
    "df = pd.read_csv('cust_satisfaction.csv')\n",
    "df"
   ]
  },
  {
   "cell_type": "code",
   "execution_count": null,
   "id": "1a1f98ff",
   "metadata": {},
   "outputs": [],
   "source": [
    "df.isnull().sum()\n",
    "df.dropna(inplace=True)"
   ]
  },
  {
   "cell_type": "code",
   "execution_count": null,
   "id": "43f59add",
   "metadata": {},
   "outputs": [],
   "source": [
    "df.duplicated().sum()\n",
    "df.drop_duplicates(inplace=True)"
   ]
  },
  {
   "cell_type": "code",
   "execution_count": null,
   "id": "68c5677e",
   "metadata": {},
   "outputs": [],
   "source": [
    "df[\"Customer Type\"].value_counts()"
   ]
  },
  {
   "cell_type": "code",
   "execution_count": null,
   "id": "02368cbb",
   "metadata": {},
   "outputs": [],
   "source": [
    "# Balancing the data for right prediction\n",
    "loyal_customer = df[df[\"Customer Type\"] == \"Loyal Customer\"]\n",
    "disloyal_customer = df[df[\"Customer Type\"] == \"disloyal Customer\"]"
   ]
  },
  {
   "cell_type": "code",
   "execution_count": null,
   "id": "7017b35b",
   "metadata": {},
   "outputs": [],
   "source": [
    "loyal_customer = loyal_customer.sample(20000)\n",
    "loyal_customer.shape"
   ]
  },
  {
   "cell_type": "code",
   "execution_count": null,
   "id": "fe8ccacc",
   "metadata": {},
   "outputs": [],
   "source": [
    "balance_df = pd.concat([loyal_customer,disloyal_customer],axis=0)\n",
    "balance_df.head()"
   ]
  },
  {
   "cell_type": "code",
   "execution_count": null,
   "id": "a01b95a0",
   "metadata": {},
   "outputs": [],
   "source": [
    "cat_col = balance_df.select_dtypes(include=\"O\")\n",
    "cat_col.head()"
   ]
  },
  {
   "cell_type": "code",
   "execution_count": null,
   "id": "a152d6d2",
   "metadata": {},
   "outputs": [],
   "source": [
    "num_col = balance_df.select_dtypes(exclude=\"O\")\n",
    "num_col.head()"
   ]
  },
  {
   "cell_type": "code",
   "execution_count": null,
   "id": "6273767f",
   "metadata": {},
   "outputs": [],
   "source": [
    "# Encoding using pandas\n",
    "pd.get_dummies(cat_col,drop_first=True)"
   ]
  },
  {
   "cell_type": "code",
   "execution_count": null,
   "id": "757a079c",
   "metadata": {},
   "outputs": [],
   "source": [
    "## Encoding catagorical data using sklearn class\n",
    "\n",
    "from sklearn.preprocessing import LabelEncoder,OneHotEncoder\n",
    "ohe = OneHotEncoder(drop='if_binary')\n",
    "cat_col_encoded = ohe.fit_transform(cat_col).toarray()\n",
    "cat_col_encoded"
   ]
  },
  {
   "cell_type": "code",
   "execution_count": null,
   "id": "da11756d",
   "metadata": {},
   "outputs": [],
   "source": [
    "column_name = list(ohe.get_feature_names_out())\n",
    "column_name"
   ]
  },
  {
   "cell_type": "code",
   "execution_count": null,
   "id": "fb82dfe6",
   "metadata": {},
   "outputs": [],
   "source": [
    "one_hot = pd.DataFrame(cat_col_encoded,columns=column_name)\n",
    "one_hot.head()"
   ]
  },
  {
   "cell_type": "code",
   "execution_count": null,
   "id": "618e01cc",
   "metadata": {},
   "outputs": [],
   "source": [
    "one_hot = one_hot.reset_index(drop=True)\n",
    "num_col = num_col.reset_index(drop=True)\n",
    "final_df = pd.concat([one_hot,num_col],axis=1)\n",
    "final_df.head()"
   ]
  },
  {
   "cell_type": "code",
   "execution_count": null,
   "id": "b5d463ce",
   "metadata": {},
   "outputs": [],
   "source": [
    "##\n",
    "final_df.to_csv('Daya2.csv',index=False)"
   ]
  },
  {
   "cell_type": "code",
   "execution_count": null,
   "id": "66a00efa",
   "metadata": {},
   "outputs": [],
   "source": [
    "x = final_df.drop(\"Customer Type_disloyal Customer\",axis=1)\n",
    "y = final_df[[\"Customer Type_disloyal Customer\"]]"
   ]
  },
  {
   "cell_type": "code",
   "execution_count": null,
   "id": "7bf78caf",
   "metadata": {},
   "outputs": [],
   "source": [
    "## train and testing\n",
    "from sklearn.model_selection import train_test_split\n",
    "\n",
    "x_train, x_test, y_train, y_test = train_test_split(\n",
    "    x, y, test_size=0.2,\n",
    "    random_state=42\n",
    ")"
   ]
  },
  {
   "cell_type": "code",
   "execution_count": null,
   "id": "956c9d7c",
   "metadata": {},
   "outputs": [],
   "source": [
    "## Algorithm\n",
    "\n",
    "from sklearn.linear_model import LogisticRegression\n",
    "\n",
    "model = LogisticRegression()\n",
    "model.fit(x_train,y_train)"
   ]
  },
  {
   "cell_type": "code",
   "execution_count": null,
   "id": "d246a286",
   "metadata": {},
   "outputs": [],
   "source": [
    "model.score(x_test,y_test)"
   ]
  },
  {
   "cell_type": "code",
   "execution_count": null,
   "id": "043552cb",
   "metadata": {},
   "outputs": [],
   "source": [
    "model.score(x_train,y_train)"
   ]
  },
  {
   "cell_type": "code",
   "execution_count": null,
   "id": "af20399a",
   "metadata": {},
   "outputs": [],
   "source": [
    "pred = model.predict(x_test)\n",
    "y_test[\"prediction\"] = pred\n",
    "y_test"
   ]
  },
  {
   "cell_type": "code",
   "execution_count": null,
   "id": "a0ec3879",
   "metadata": {},
   "outputs": [],
   "source": [
    "## Evaluation of model performance\n",
    "# regg -> mse,mae,Rmse\n",
    "# class -> confusion matrix, classification report"
   ]
  },
  {
   "cell_type": "code",
   "execution_count": null,
   "id": "196574aa",
   "metadata": {},
   "outputs": [],
   "source": [
    "from sklearn.metrics import confusion_matrix,classification_report"
   ]
  },
  {
   "cell_type": "code",
   "execution_count": null,
   "id": "73a7ef74",
   "metadata": {},
   "outputs": [],
   "source": [
    "confusion_matrix(y_test[\"Customer Type_disloyal Customer\"],y_test[\"prediction\"])"
   ]
  },
  {
   "cell_type": "code",
   "execution_count": null,
   "id": "db629122",
   "metadata": {},
   "outputs": [],
   "source": [
    "## graph -> heatmap\n",
    "sns.heatmap(confusion_matrix(y_test[\"Customer Type_disloyal Customer\"],y_test[\"prediction\"]),annot=True,fmt=\"d\")"
   ]
  },
  {
   "cell_type": "code",
   "execution_count": null,
   "id": "378fc02f",
   "metadata": {},
   "outputs": [],
   "source": [
    "## classification report\n",
    "print(classification_report(y_test[\"Customer Type_disloyal Customer\"],y_test[\"prediction\"]))"
   ]
  },
  {
   "cell_type": "code",
   "execution_count": null,
   "id": "11bb0aee",
   "metadata": {},
   "outputs": [],
   "source": [
    "## Roc curve"
   ]
  }
 ],
 "metadata": {
  "kernelspec": {
   "display_name": "base",
   "language": "python",
   "name": "python3"
  },
  "language_info": {
   "codemirror_mode": {
    "name": "ipython",
    "version": 3
   },
   "file_extension": ".py",
   "mimetype": "text/x-python",
   "name": "python",
   "nbconvert_exporter": "python",
   "pygments_lexer": "ipython3",
   "version": "3.12.7"
  }
 },
 "nbformat": 4,
 "nbformat_minor": 5
}
