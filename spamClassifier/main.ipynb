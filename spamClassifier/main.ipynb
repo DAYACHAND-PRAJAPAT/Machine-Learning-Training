{
 "cells": [
  {
   "cell_type": "code",
   "execution_count": null,
   "id": "f8c75174",
   "metadata": {},
   "outputs": [],
   "source": [
    "import pandas as pd\n",
    "import numpy as np\n",
    "import matplotlib.pyplot as plt\n",
    "import seaborn as sns\n",
    "import re\n",
    "from sklearn.feature_extraction.text import CountVectorizer\n",
    "from sklearn.feature_extraction.text import TfidfTransformer\n",
    "from sklearn.model_selection import train_test_split\n",
    "from sklearn.naive_bayes import MultinomialNB\n",
    "from sklearn.naive_bayes import GaussianNB\n",
    "from sklearn.naive_bayes import BernoulliNB\n",
    "from sklearn.metrics import confusion_matrix,classification_report\n",
    "import pickle,joblib\n",
    "\n",
    "## Some NLP libraries\n",
    "\n",
    "import nltk\n",
    "from nltk.corpus import stopwords\n",
    "from nltk.stem.porter import PorterStemmer"
   ]
  },
  {
   "cell_type": "code",
   "execution_count": null,
   "id": "218f6cc6",
   "metadata": {},
   "outputs": [],
   "source": [
    "## ML -> sklearn\n",
    "## NLP -> nltk\n",
    "## DL ->"
   ]
  },
  {
   "cell_type": "code",
   "execution_count": null,
   "id": "f8452a68",
   "metadata": {},
   "outputs": [],
   "source": [
    "# reading the data for the file\n",
    "\n",
    "x,y = [],[]\n",
    "# using file handling to read the file\n",
    "with open('SMSSpamCollection.txt','r') as file:\n",
    "    data = file.read()\n",
    "    # iterate through each line\n",
    "    for data_item in data.split(\"\\n\"):\n",
    "        # checks if the line contains exactly two elements when splitted by tab character\n",
    "        if len(data_item.split(\"\\t\")) == 2:\n",
    "            # append the first element to x and the second element to y\n",
    "            x.append(data_item.split(\"\\t\")[1])\n",
    "            y.append(data_item.split(\"\\t\")[0])\n",
    "\n",
    "print(\"Successfully read the data\")"
   ]
  },
  {
   "cell_type": "code",
   "execution_count": null,
   "id": "0a24095b",
   "metadata": {},
   "outputs": [],
   "source": [
    "len(x),len(y)"
   ]
  },
  {
   "cell_type": "code",
   "execution_count": null,
   "id": "3fbc7fcc",
   "metadata": {},
   "outputs": [],
   "source": [
    "## Dataframe\n",
    "\n",
    "data_dict = {'mail_message':x,'label':y}\n",
    "df = pd.DataFrame(data_dict)\n",
    "df.head()"
   ]
  },
  {
   "cell_type": "code",
   "execution_count": null,
   "id": "7b5d9f61",
   "metadata": {},
   "outputs": [],
   "source": [
    "df.info()"
   ]
  },
  {
   "cell_type": "code",
   "execution_count": null,
   "id": "24ce5bc4",
   "metadata": {},
   "outputs": [],
   "source": [
    "df.isnull().sum()\n",
    "df.duplicated().sum()\n",
    "df.drop_duplicates(inplace=True)\n",
    "df.duplicated().sum()"
   ]
  },
  {
   "cell_type": "code",
   "execution_count": null,
   "id": "503a8cf9",
   "metadata": {},
   "outputs": [],
   "source": [
    "# import re\n",
    "\n",
    "# # function to clean and lowercase\n",
    "# def clean_text(text):\n",
    "#     text = re.sub('[a-zA-Z]',' ',text) # remove non alphabetic character\n",
    "#     return text.lower() # convert to lowercase\n",
    "\n",
    "# # apply function to entire column\n",
    "# df['mail_message'] = df['mail_message'].astype(str).apply(clean_text)\n",
    "# df.head()"
   ]
  },
  {
   "cell_type": "code",
   "execution_count": null,
   "id": "6dd2762c",
   "metadata": {},
   "outputs": [],
   "source": [
    "# for i in range (0,len(df)):\n",
    "#     message = re.sub(['a-zA-Z'],' ',df['mail_message'][i])\n",
    "#     message = message.lower()\n",
    "#     df['mail_message'][i] = message\n",
    "# df.head()"
   ]
  },
  {
   "cell_type": "code",
   "execution_count": null,
   "id": "26d742be",
   "metadata": {},
   "outputs": [],
   "source": [
    "classes = list(df['label'].value_counts().index)\n",
    "valu = list(df['label'].value_counts().values)\n",
    "sns.set(rc = {'figure.figsize':(8,20)})\n",
    "sns.catplot(x=classes,y=valu,kind='bar')\n",
    "plt.show()"
   ]
  },
  {
   "cell_type": "code",
   "execution_count": null,
   "id": "08fa4916",
   "metadata": {},
   "outputs": [],
   "source": [
    "df['label'].value_counts()"
   ]
  },
  {
   "cell_type": "code",
   "execution_count": null,
   "id": "ae888997",
   "metadata": {},
   "outputs": [],
   "source": [
    "df.sample(2000)"
   ]
  },
  {
   "cell_type": "code",
   "execution_count": null,
   "id": "016454e4",
   "metadata": {},
   "outputs": [],
   "source": [
    "ham = df[df['label'] == 'ham'].sample(2000)\n",
    "spam = df[df['label'] == 'spam']\n",
    "df = pd.concat([ham,spam])\n",
    "df['label'].value_counts()"
   ]
  },
  {
   "cell_type": "code",
   "execution_count": null,
   "id": "74d4b37a",
   "metadata": {},
   "outputs": [],
   "source": [
    "# label encoding of our dependent variable\n",
    "df['label'] = df['label'].map({'ham':0,'spam':1})\n",
    "df.head()"
   ]
  },
  {
   "cell_type": "code",
   "execution_count": null,
   "id": "d2e3241c",
   "metadata": {},
   "outputs": [],
   "source": [
    "# splitting the data into x and y\n",
    "x = df['mail_message']\n",
    "y = df['label']"
   ]
  },
  {
   "cell_type": "code",
   "execution_count": null,
   "id": "c9ca0533",
   "metadata": {},
   "outputs": [],
   "source": [
    "# prepare single list of values\n",
    "x = x.values"
   ]
  },
  {
   "cell_type": "code",
   "execution_count": null,
   "id": "16633730",
   "metadata": {},
   "outputs": [],
   "source": [
    "# initializing the bag of words class\n",
    "\n",
    "BOW_obj = CountVectorizer(\n",
    "    max_features=2000,\n",
    "    stop_words='english'\n",
    ")\n",
    "x_transformed = BOW_obj.fit_transform(x)\n",
    "x_transformed.shape"
   ]
  },
  {
   "cell_type": "code",
   "execution_count": null,
   "id": "534c0ba1",
   "metadata": {},
   "outputs": [],
   "source": [
    "# sparse to dense matrix conversion\n",
    "dense_matrix = x_transformed.toarray()\n",
    "dense_matrix.shape"
   ]
  },
  {
   "cell_type": "markdown",
   "id": "830af3f0",
   "metadata": {},
   "source": [
    "save here"
   ]
  },
  {
   "cell_type": "code",
   "execution_count": null,
   "id": "cd26c2d3",
   "metadata": {},
   "outputs": [],
   "source": [
    "# train test split\n",
    "x_train,x_test,y_train,y_test = train_test_split(\n",
    "    dense_matrix,\n",
    "    y,\n",
    "    test_size=0.2\n",
    ")"
   ]
  },
  {
   "cell_type": "code",
   "execution_count": null,
   "id": "3c02e379",
   "metadata": {},
   "outputs": [],
   "source": [
    "# using multinomial naive bayes\n",
    "model = MultinomialNB()\n",
    "model.fit(x_train,y_train)"
   ]
  },
  {
   "cell_type": "markdown",
   "id": "4525190d",
   "metadata": {},
   "source": [
    "#save here"
   ]
  },
  {
   "cell_type": "code",
   "execution_count": null,
   "id": "375edf47",
   "metadata": {},
   "outputs": [],
   "source": [
    "model.score(x_train,y_train)"
   ]
  },
  {
   "cell_type": "code",
   "execution_count": null,
   "id": "ced4c95b",
   "metadata": {},
   "outputs": [],
   "source": [
    "model.score(x_test,y_test)"
   ]
  },
  {
   "cell_type": "code",
   "execution_count": null,
   "id": "086719c6",
   "metadata": {},
   "outputs": [],
   "source": [
    "pred = model.predict(x_test)\n",
    "pred"
   ]
  }
 ],
 "metadata": {
  "kernelspec": {
   "display_name": "base",
   "language": "python",
   "name": "python3"
  },
  "language_info": {
   "codemirror_mode": {
    "name": "ipython",
    "version": 3
   },
   "file_extension": ".py",
   "mimetype": "text/x-python",
   "name": "python",
   "nbconvert_exporter": "python",
   "pygments_lexer": "ipython3",
   "version": "3.12.7"
  }
 },
 "nbformat": 4,
 "nbformat_minor": 5
}
