{
 "cells": [
  {
   "cell_type": "code",
   "execution_count": null,
   "id": "46b8bce5",
   "metadata": {},
   "outputs": [],
   "source": [
    "import pandas as pd\n",
    "import numpy as np\n",
    "import matplotlib.pyplot as plt\n",
    "import seaborn as sns"
   ]
  },
  {
   "cell_type": "code",
   "execution_count": null,
   "id": "bef046d6",
   "metadata": {},
   "outputs": [],
   "source": [
    "df = pd.read_csv('Daya2.csv')\n",
    "df\n",
    "df.info()"
   ]
  },
  {
   "cell_type": "code",
   "execution_count": null,
   "id": "a89787f5",
   "metadata": {},
   "outputs": [],
   "source": [
    "x = x = df.drop(\"Customer Type_disloyal Customer\",axis=1)\n",
    "y = df[[\"Customer Type_disloyal Customer\"]]"
   ]
  },
  {
   "cell_type": "code",
   "execution_count": null,
   "id": "375b58fc",
   "metadata": {},
   "outputs": [],
   "source": [
    "## train and testing\n",
    "from sklearn.model_selection import train_test_split\n",
    "\n",
    "x_train, x_test, y_train, y_test = train_test_split(\n",
    "    x, y, test_size=0.2,\n",
    "    random_state=42\n",
    ")"
   ]
  },
  {
   "cell_type": "code",
   "execution_count": null,
   "id": "4e11e991",
   "metadata": {},
   "outputs": [],
   "source": [
    "from sklearn.tree import DecisionTreeClassifier"
   ]
  },
  {
   "cell_type": "code",
   "execution_count": null,
   "id": "02e3c2ea",
   "metadata": {},
   "outputs": [],
   "source": [
    "## Algorithm\n",
    "model = DecisionTreeClassifier()"
   ]
  }
 ],
 "metadata": {
  "kernelspec": {
   "display_name": "base",
   "language": "python",
   "name": "python3"
  },
  "language_info": {
   "codemirror_mode": {
    "name": "ipython",
    "version": 3
   },
   "file_extension": ".py",
   "mimetype": "text/x-python",
   "name": "python",
   "nbconvert_exporter": "python",
   "pygments_lexer": "ipython3",
   "version": "3.12.7"
  }
 },
 "nbformat": 4,
 "nbformat_minor": 5
}
