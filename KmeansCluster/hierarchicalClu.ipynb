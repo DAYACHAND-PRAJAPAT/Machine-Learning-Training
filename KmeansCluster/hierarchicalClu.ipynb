{
 "cells": [
  {
   "cell_type": "code",
   "execution_count": null,
   "id": "20b0be4d",
   "metadata": {},
   "outputs": [],
   "source": [
    "import numpy as np\n",
    "import pandas as pd\n",
    "import matplotlib.pyplot as plt\n",
    "import seaborn as sns"
   ]
  },
  {
   "cell_type": "code",
   "execution_count": null,
   "id": "2d71a9aa",
   "metadata": {},
   "outputs": [],
   "source": [
    "df = pd.read_csv('pricerunner_aggregate.csv')\n",
    "df"
   ]
  },
  {
   "cell_type": "code",
   "execution_count": null,
   "id": "87b89033",
   "metadata": {},
   "outputs": [],
   "source": [
    "df.info()"
   ]
  },
  {
   "cell_type": "code",
   "execution_count": null,
   "id": "d0666464",
   "metadata": {},
   "outputs": [],
   "source": [
    "num_col = df.select_dtypes(exclude=\"O\")\n",
    "num_col.head()"
   ]
  },
  {
   "cell_type": "code",
   "execution_count": null,
   "id": "54d57a89",
   "metadata": {},
   "outputs": [],
   "source": [
    "cat_col = df.select_dtypes(include=\"O\")\n",
    "cat_col.head()"
   ]
  },
  {
   "cell_type": "code",
   "execution_count": null,
   "id": "ca06a96f",
   "metadata": {},
   "outputs": [],
   "source": [
    "df.isnull().sum()\n",
    "df.dropna(inplace=True)"
   ]
  },
  {
   "cell_type": "code",
   "execution_count": null,
   "id": "8f7bee8f",
   "metadata": {},
   "outputs": [],
   "source": [
    "# cat_col[\"Cluster Label\"].value_counts().to_dict()"
   ]
  },
  {
   "cell_type": "code",
   "execution_count": null,
   "id": "567d300a",
   "metadata": {},
   "outputs": [],
   "source": [
    "label_dict = {}\n",
    "for i in range(len(cat_col[\" Category Label\"].unique())):\n",
    "    label_dict[cat_col[\" Category Label\"].unique()[i]]=i\n",
    "label_dict"
   ]
  },
  {
   "cell_type": "code",
   "execution_count": null,
   "id": "3b509ef9",
   "metadata": {},
   "outputs": [],
   "source": [
    "dt2 = {'Mobile Phones': 0,\n",
    " 'TVs': 1,\n",
    " 'CPUs': 2,\n",
    " 'Digital Cameras': 3,\n",
    " 'Microwaves': 4,\n",
    " 'Dishwashers': 5,\n",
    " 'Washing Machines': 6,\n",
    " 'Freezers': 7,\n",
    " 'Fridge Freezers': 8,\n",
    " 'Fridges': 9}"
   ]
  },
  {
   "cell_type": "code",
   "execution_count": null,
   "id": "eba53161",
   "metadata": {},
   "outputs": [],
   "source": [
    "## Heirarchical clustering\n",
    "from sklearn.cluster import AgglomerativeClustering\n",
    "cluster = AgglomerativeClustering(n_clusters=10,affinity='euclidean',linkage='ward')\n",
    "cluster.fit_predict(cat_col)"
   ]
  }
 ],
 "metadata": {
  "kernelspec": {
   "display_name": "base",
   "language": "python",
   "name": "python3"
  },
  "language_info": {
   "codemirror_mode": {
    "name": "ipython",
    "version": 3
   },
   "file_extension": ".py",
   "mimetype": "text/x-python",
   "name": "python",
   "nbconvert_exporter": "python",
   "pygments_lexer": "ipython3",
   "version": "3.12.7"
  }
 },
 "nbformat": 4,
 "nbformat_minor": 5
}
