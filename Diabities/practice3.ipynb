{
 "cells": [
  {
   "cell_type": "code",
   "execution_count": null,
   "id": "0550c46c",
   "metadata": {},
   "outputs": [],
   "source": [
    "import numpy as np\n",
    "import pandas as pd\n",
    "import seaborn as sns\n",
    "import matplotlib.pyplot as plt"
   ]
  },
  {
   "cell_type": "code",
   "execution_count": null,
   "id": "c26e575b",
   "metadata": {},
   "outputs": [],
   "source": [
    "df = pd.read_csv('dataset_37_diabetes.csv')\n",
    "df.head()"
   ]
  },
  {
   "cell_type": "code",
   "execution_count": null,
   "id": "f694b595",
   "metadata": {},
   "outputs": [],
   "source": [
    "df = df.rename(columns={\"class' { tested_negative\": 'result'})\n",
    "\n",
    "df.to_csv('dataset_37_diabetes.csv', index=False)"
   ]
  },
  {
   "cell_type": "code",
   "execution_count": null,
   "id": "9a62792f",
   "metadata": {},
   "outputs": [],
   "source": [
    "df.duplicated().sum()"
   ]
  },
  {
   "cell_type": "code",
   "execution_count": null,
   "id": "e739cc47",
   "metadata": {},
   "outputs": [],
   "source": [
    "df[\"result\"].value_counts()"
   ]
  },
  {
   "cell_type": "code",
   "execution_count": null,
   "id": "5b35e8e8",
   "metadata": {},
   "outputs": [],
   "source": [
    "## balancing the data\n",
    "Negative = df[df[\"result\"] == 'tested_negative']\n",
    "Positive = df[df[\"result\"] == 'tested_positive']"
   ]
  },
  {
   "cell_type": "code",
   "execution_count": null,
   "id": "6bf28a78",
   "metadata": {},
   "outputs": [],
   "source": [
    "## Check data is balance or not\n",
    "\n",
    "fig = plt.figure(figsize=(8,5))\n",
    "df.result.value_counts().plot(kind=\"bar\")\n",
    "plt.show()"
   ]
  },
  {
   "cell_type": "code",
   "execution_count": null,
   "id": "e199fc74",
   "metadata": {},
   "outputs": [],
   "source": [
    "Negative = Negative.sample(250)\n",
    "Negative.shape"
   ]
  },
  {
   "cell_type": "code",
   "execution_count": null,
   "id": "3514bcb5",
   "metadata": {},
   "outputs": [],
   "source": [
    "balance_df = pd.concat([Negative,Positive],axis=0)\n",
    "balance_df.head()"
   ]
  },
  {
   "cell_type": "code",
   "execution_count": null,
   "id": "4657fbb2",
   "metadata": {},
   "outputs": [],
   "source": [
    "## Check data is balance or not\n",
    "\n",
    "fig = plt.figure(figsize=(8,5))\n",
    "balance_df.result.value_counts().plot(kind=\"bar\")\n",
    "plt.show()"
   ]
  },
  {
   "cell_type": "code",
   "execution_count": null,
   "id": "3bed9983",
   "metadata": {},
   "outputs": [],
   "source": [
    "cat_col = balance_df.drop([\"Unnamed: 9\"],axis=1)\n",
    "cat_col.head()"
   ]
  },
  {
   "cell_type": "code",
   "execution_count": null,
   "id": "b1952ccc",
   "metadata": {},
   "outputs": [],
   "source": [
    "cat_col =cat_col.select_dtypes(include=\"O\")\n",
    "cat_col.head()"
   ]
  },
  {
   "cell_type": "code",
   "execution_count": null,
   "id": "0f9f8a70",
   "metadata": {},
   "outputs": [],
   "source": [
    "num_col = balance_df.drop([\"Unnamed: 9\"],axis=1)\n",
    "num_col.head()"
   ]
  },
  {
   "cell_type": "code",
   "execution_count": null,
   "id": "03887bbc",
   "metadata": {},
   "outputs": [],
   "source": [
    "num_col = num_col.select_dtypes(exclude=\"O\")\n",
    "num_col.head()"
   ]
  },
  {
   "cell_type": "code",
   "execution_count": null,
   "id": "47303546",
   "metadata": {},
   "outputs": [],
   "source": [
    "pd.get_dummies(cat_col).astype(int).head()"
   ]
  },
  {
   "cell_type": "code",
   "execution_count": null,
   "id": "4448a7db",
   "metadata": {},
   "outputs": [],
   "source": [
    "cat_col[\"result\"].value_counts()"
   ]
  },
  {
   "cell_type": "code",
   "execution_count": null,
   "id": "bdaefe86",
   "metadata": {},
   "outputs": [],
   "source": [
    "dt = {\n",
    "    'tested_positive':1,\n",
    "    'tested_negative':0\n",
    "}\n",
    "\n",
    "cat_col[\"result\"] = cat_col[\"result\"].map(dt)\n",
    "cat_col[\"result\"].head()"
   ]
  },
  {
   "cell_type": "code",
   "execution_count": null,
   "id": "b5e40b82",
   "metadata": {},
   "outputs": [],
   "source": [
    "final_df = pd.concat([cat_col,num_col],axis=1)\n",
    "final_df.head()"
   ]
  },
  {
   "cell_type": "code",
   "execution_count": null,
   "id": "f19d046f",
   "metadata": {},
   "outputs": [],
   "source": [
    "## feature selection\n",
    "\n",
    "x = final_df.drop(\"result\",axis=1)\n",
    "y = final_df[[\"result\"]]"
   ]
  },
  {
   "cell_type": "code",
   "execution_count": null,
   "id": "46e7b504",
   "metadata": {},
   "outputs": [],
   "source": [
    "## training and testing classification\n",
    "\n",
    "from sklearn.model_selection import train_test_split\n",
    "x_train,x_test,y_train,y_test = train_test_split(\n",
    "    x,y,test_size=0.2,random_state=42\n",
    ")"
   ]
  },
  {
   "cell_type": "code",
   "execution_count": null,
   "id": "8ab80fe6",
   "metadata": {},
   "outputs": [],
   "source": [
    "# encoding of y_test\n",
    "\n",
    "if len(y_test.shape) > 1 and y_test.shape[1] > 1:\n",
    "    y_test = np.argmax(y_test, axis=1)"
   ]
  },
  {
   "cell_type": "code",
   "execution_count": null,
   "id": "92b26e15",
   "metadata": {},
   "outputs": [],
   "source": [
    "y_test.shape"
   ]
  },
  {
   "cell_type": "code",
   "execution_count": null,
   "id": "9483b7da",
   "metadata": {},
   "outputs": [],
   "source": [
    "## Algorithm\n",
    "\n",
    "from sklearn.linear_model import LogisticRegression\n",
    "model = LogisticRegression()\n",
    "model.fit(x_train,y_train)"
   ]
  },
  {
   "cell_type": "code",
   "execution_count": null,
   "id": "3e37d2ad",
   "metadata": {},
   "outputs": [],
   "source": [
    "# to save the model\n",
    "import joblib,pickle\n",
    "joblib.dump(model,\"diabities.lb\")"
   ]
  },
  {
   "cell_type": "code",
   "execution_count": null,
   "id": "5d361e2c",
   "metadata": {},
   "outputs": [],
   "source": [
    "model.score(x_test,y_test)"
   ]
  },
  {
   "cell_type": "code",
   "execution_count": null,
   "id": "e55d1e1b",
   "metadata": {},
   "outputs": [],
   "source": [
    "model.score(x_train,y_train)"
   ]
  },
  {
   "cell_type": "code",
   "execution_count": null,
   "id": "1eca1a8c",
   "metadata": {},
   "outputs": [],
   "source": [
    "pred = model.predict(x_test)\n",
    "y_test[\"prediction\"] = pred\n",
    "y_test"
   ]
  },
  {
   "cell_type": "code",
   "execution_count": null,
   "id": "79a04770",
   "metadata": {},
   "outputs": [],
   "source": [
    "## Model evaluation\n",
    "\n",
    "from sklearn.metrics import confusion_matrix,classification_report"
   ]
  },
  {
   "cell_type": "code",
   "execution_count": null,
   "id": "c98ae9e4",
   "metadata": {},
   "outputs": [],
   "source": [
    "confusion_matrix(y_test[\"result\"],y_test[\"prediction\"])"
   ]
  },
  {
   "cell_type": "code",
   "execution_count": null,
   "id": "1510ee40",
   "metadata": {},
   "outputs": [],
   "source": [
    "sns.heatmap(confusion_matrix(y_test[\"result\"],y_test[\"prediction\"]),annot=True,fmt='d')"
   ]
  },
  {
   "cell_type": "code",
   "execution_count": null,
   "id": "a4ac5080",
   "metadata": {},
   "outputs": [],
   "source": [
    "## classification report\n",
    "print(classification_report(y_test[\"result\"],y_test[\"prediction\"]))"
   ]
  },
  {
   "cell_type": "code",
   "execution_count": null,
   "id": "8b7d87f5",
   "metadata": {},
   "outputs": [],
   "source": [
    "# ## ROC curve\n",
    "\n",
    "# from sklearn.metrics import roc_curve,auc\n",
    "# # Compute ROC curve and AUC\n",
    "# fpr, tpr, thresholds = roc_curve(y_test, pred)\n",
    "# roc_auc = auc(fpr, tpr)\n",
    "\n",
    "# # Plot ROC curve\n",
    "# plt.figure(figsize=(8,6))\n",
    "# plt.plot(fpr, tpr, color='blue', lw=2, label='Logistic Regression (AUC = %0.2f)' % roc_auc)\n",
    "# plt.plot([0, 1], [0, 1], color='red', linestyle='--')  # Random guess line\n",
    "# plt.xlim([0.0, 1.0])\n",
    "# plt.ylim([0.0, 1.05])\n",
    "# plt.xlabel('False Positive Rate')\n",
    "# plt.ylabel('True Positive Rate')\n",
    "# plt.title('ROC Curve - Logistic Regression')\n",
    "# plt.legend(loc=\"lower right\")\n",
    "# plt.grid(True)\n",
    "# plt.show()"
   ]
  }
 ],
 "metadata": {
  "kernelspec": {
   "display_name": "base",
   "language": "python",
   "name": "python3"
  },
  "language_info": {
   "codemirror_mode": {
    "name": "ipython",
    "version": 3
   },
   "file_extension": ".py",
   "mimetype": "text/x-python",
   "name": "python",
   "nbconvert_exporter": "python",
   "pygments_lexer": "ipython3",
   "version": "3.12.7"
  }
 },
 "nbformat": 4,
 "nbformat_minor": 5
}
