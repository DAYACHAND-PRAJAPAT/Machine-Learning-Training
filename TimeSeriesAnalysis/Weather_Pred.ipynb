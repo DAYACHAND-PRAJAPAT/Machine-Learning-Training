{
 "cells": [
  {
   "cell_type": "code",
   "execution_count": null,
   "id": "8e2ae6fd",
   "metadata": {},
   "outputs": [],
   "source": [
    "import pandas as pd\n",
    "import numpy as np\n",
    "import matplotlib.pyplot as plt\n",
    "import seaborn as sns"
   ]
  },
  {
   "cell_type": "code",
   "execution_count": null,
   "id": "8860b41f",
   "metadata": {},
   "outputs": [],
   "source": [
    "df = pd.read_csv('weatherAUS.csv')\n",
    "df.head()"
   ]
  },
  {
   "cell_type": "code",
   "execution_count": null,
   "id": "147e191a",
   "metadata": {},
   "outputs": [],
   "source": [
    "df.shape"
   ]
  },
  {
   "cell_type": "code",
   "execution_count": null,
   "id": "0a96ff27",
   "metadata": {},
   "outputs": [],
   "source": [
    "df.info()"
   ]
  },
  {
   "cell_type": "code",
   "execution_count": null,
   "id": "2e5bf99d",
   "metadata": {},
   "outputs": [],
   "source": [
    "df[\"RainToday\"].replace({\"No\":0,\"Yes\":1},inplace=True)\n",
    "df[\"RainTomorrow\"].replace({\"No\":0,\"Yes\":1},inplace=True)"
   ]
  },
  {
   "cell_type": "code",
   "execution_count": null,
   "id": "64113444",
   "metadata": {},
   "outputs": [],
   "source": [
    "## Check data is balance or not\n",
    "\n",
    "fig = plt.figure(figsize=(8,5))\n",
    "df.RainTomorrow.value_counts().plot(kind='bar')\n",
    "plt.show()"
   ]
  },
  {
   "cell_type": "code",
   "execution_count": null,
   "id": "2bc05fd1",
   "metadata": {},
   "outputs": [],
   "source": [
    "# Handling imbalance class\n",
    "\n",
    "from sklearn.utils import resample\n",
    "no = df[df[\"RainTomorrow\"]==0]\n",
    "yes = df[df[\"RainTomorrow\"]==1]\n",
    "yes_oversampled = resample(yes,\n",
    "                        replace=True,\n",
    "                        n_samples=len(no),\n",
    "                        random_state=123)\n",
    "oversampled = pd.concat([no,yes_oversampled])"
   ]
  },
  {
   "cell_type": "code",
   "execution_count": null,
   "id": "8ee9b710",
   "metadata": {},
   "outputs": [],
   "source": [
    "fig = plt.figure(figsize=(8,5))\n",
    "oversampled.RainTomorrow.value_counts().plot(kind='bar')\n",
    "plt.show()"
   ]
  },
  {
   "cell_type": "code",
   "execution_count": null,
   "id": "7e2124f6",
   "metadata": {},
   "outputs": [],
   "source": [
    "# missing values pattern\n",
    "\n",
    "sns.heatmap(oversampled.isnull(),cbar=False,cmap=\"PuBu\")"
   ]
  },
  {
   "cell_type": "code",
   "execution_count": null,
   "id": "2d5933df",
   "metadata": {},
   "outputs": [],
   "source": [
    "# Dealing with missing values\n",
    "\n",
    "total = oversampled.isnull().sum().sort_values(\n",
    "    ascending = False)\n",
    "percent = (oversampled.isnull().sum()/\n",
    "            oversampled.isnull().count()).sort_values(\n",
    "                ascending = False)\n",
    "missing = pd.concat([total,percent],axis=1,keys=['Total','Percent'])\n",
    "missing.head(4)"
   ]
  },
  {
   "cell_type": "code",
   "execution_count": null,
   "id": "626db965",
   "metadata": {},
   "outputs": [],
   "source": [
    "# Transforming null values\n",
    "\n",
    "oversampled.select_dtypes(include=[\"O\"]).columns"
   ]
  },
  {
   "cell_type": "code",
   "execution_count": null,
   "id": "a7deaaad",
   "metadata": {},
   "outputs": [],
   "source": [
    "# Impute catagorical values with mode\n",
    "\n",
    "oversampled['Date'] = oversampled['Date'].fillna(oversampled['Date'].mode()[0])\n",
    "oversampled['Location'] = oversampled['Location'].fillna(oversampled['Location'].mode()[0])\n",
    "oversampled['WindGustDir'] = oversampled['WindGustDir'].fillna(oversampled['WindGustDir'].mode()[0])\n",
    "oversampled['WindDir9am'] = oversampled['WindDir9am'].fillna(oversampled['WindDir9am'].mode()[0])\n",
    "oversampled['WindDir3pm'] = oversampled['WindDir3pm'].fillna(oversampled['WindDir3pm'].mode()[0])"
   ]
  },
  {
   "cell_type": "code",
   "execution_count": null,
   "id": "dcd0c387",
   "metadata": {},
   "outputs": [],
   "source": [
    "# Convert catagorical to numbers\n",
    "\n",
    "from sklearn.preprocessing import LabelEncoder\n",
    "lencoders = {}\n",
    "for col in oversampled.select_dtypes(include=[\"O\"]).columns:\n",
    "    lencoders[col] = LabelEncoder()\n",
    "    oversampled[col] = lencoders[col].fit_transform(oversampled[col])"
   ]
  },
  {
   "cell_type": "code",
   "execution_count": null,
   "id": "9e0eb41f",
   "metadata": {},
   "outputs": [],
   "source": [
    "import warnings\n",
    "warnings.filterwarnings(\"ignore\")"
   ]
  },
  {
   "cell_type": "code",
   "execution_count": null,
   "id": "cb9930f3",
   "metadata": {},
   "outputs": [],
   "source": [
    "# Multiple imputation\n",
    "from sklearn.experimental import enable_iterative_imputer\n",
    "from sklearn.impute import IterativeImputer\n",
    "MiceImputed = oversampled.copy(deep=True)\n",
    "mice_imputer = IterativeImputer()\n",
    "MiceImputed.iloc[:,:] = mice_imputer.fit_transform(oversampled)"
   ]
  },
  {
   "cell_type": "code",
   "execution_count": null,
   "id": "c1fac92d",
   "metadata": {},
   "outputs": [],
   "source": [
    "# Outliers treatment\n",
    "\n",
    "Q1 = MiceImputed.quantile(0.25)\n",
    "Q3 = MiceImputed.quantile(0.75)\n",
    "IQR = Q3 - Q1\n",
    "print(IQR)"
   ]
  },
  {
   "cell_type": "code",
   "execution_count": null,
   "id": "21cf2bf4",
   "metadata": {},
   "outputs": [],
   "source": [
    "outlier_mask = ((MiceImputed<(Q3-1.5*IQR)) | (MiceImputed>(Q3+1.5*IQR)).any(axis=1))\n",
    "MiceImputed = MiceImputed[~outlier_mask]\n",
    "MiceImputed.shape"
   ]
  },
  {
   "cell_type": "code",
   "execution_count": null,
   "id": "ec543f35",
   "metadata": {},
   "outputs": [],
   "source": [
    "# Correlation heatmap\n",
    "\n",
    "corr = MiceImputed.corr()\n",
    "mask = np.triu(np.ones_like(corr,dtype=bool))\n",
    "f, ax = plt.subplots(figsize=(20,20))\n",
    "cmap = sns.diverging_palette(250,25,as_cmap=True)\n",
    "sns.heatmap(corr,mask=mask,cmap=cmap,vmax=None,center=0,\n",
    "            square=True,annot=True,linewidths=5,\n",
    "            cbar_kws={'shrink':.9})"
   ]
  },
  {
   "cell_type": "code",
   "execution_count": null,
   "id": "1bc27b76",
   "metadata": {},
   "outputs": [],
   "source": [
    "sns.pairplot(data=MiceImputed,vars=('MaxTemp','MinTemp','Pressure9am',\n",
    "                                    'Pressure3pm','Temp9am','Temp3pm',\n",
    "                                    'Evaporation'),hue=\"RainTomorrow\")"
   ]
  },
  {
   "cell_type": "code",
   "execution_count": null,
   "id": "251ef19a",
   "metadata": {},
   "outputs": [],
   "source": [
    "# Using standard scaler\n",
    "\n",
    "from sklearn.preprocessing import StandardScaler,MinMaxScaler\n",
    "r_scaler = MinMaxScaler()\n",
    "r_scaler.fit(MiceImputed)\n",
    "modified_data = pd.DataFrame(r_scaler.transform(MiceImputed),\n",
    "                            index=MiceImputed.index,\n",
    "                            columns=MiceImputed.columns)"
   ]
  },
  {
   "cell_type": "code",
   "execution_count": null,
   "id": "c8a1df1b",
   "metadata": {},
   "outputs": [],
   "source": [
    "# Feature scaling\n",
    "\n",
    "from sklearn.feature_selection import SelectKBest,chi2\n",
    "x = modified_data.loc[:,\n",
    "                    modified_data.columns != 'RainTomorrow']\n",
    "y = modified_data['RainTomorrow']\n",
    "selector = SelectKBest(chi2,k=10)\n",
    "selector.fit(x,y)\n",
    "x_new = selector.transform(x)\n",
    "print(x.columns[selector.get_support(indices=True)])"
   ]
  },
  {
   "cell_type": "code",
   "execution_count": null,
   "id": "515148fc",
   "metadata": {},
   "outputs": [],
   "source": [
    "# Train diff algo\n",
    "\n",
    "features = MiceImputed.drop('RainTomorrow',axis=1)\n",
    "target = MiceImputed['RainTomorrow']"
   ]
  },
  {
   "cell_type": "code",
   "execution_count": null,
   "id": "185989bd",
   "metadata": {},
   "outputs": [],
   "source": [
    "from sklearn.model_selection import train_test_split\n",
    "\n",
    "x_train,x_test,y_train,y_test = train_test_split(\n",
    "    features,target,test_size=0.25,random_state=12345)"
   ]
  },
  {
   "cell_type": "code",
   "execution_count": null,
   "id": "67ae7865",
   "metadata": {},
   "outputs": [],
   "source": [
    "from sklearn.preprocessing import StandardScaler\n",
    "\n",
    "scaler = StandardScaler()\n",
    "x_train = scaler.fit_transform(x_train)\n",
    "x_test = scaler.transform(x_test)"
   ]
  },
  {
   "cell_type": "code",
   "execution_count": null,
   "id": "b395d4ab",
   "metadata": {},
   "outputs": [],
   "source": [
    "# Ploting roc curve\n",
    "\n",
    "def plot_roc_curve(fpr,tpr):\n",
    "    plt.plot(fpr,tpr,color='orange',label='ROC')\n",
    "    plt.plot([0,1],[0,1],color='darkblue',linestyle='--')\n",
    "    plt.legend()\n",
    "    plt.show()"
   ]
  },
  {
   "cell_type": "code",
   "execution_count": null,
   "id": "2c373992",
   "metadata": {},
   "outputs": [],
   "source": [
    "## Lin Regg\n",
    "## Decision Tree\n",
    "## Neural Networks\n",
    "## Random forest\n",
    "## Light GBM\n",
    "## XGBoost\n",
    "## catboost"
   ]
  }
 ],
 "metadata": {
  "kernelspec": {
   "display_name": "base",
   "language": "python",
   "name": "python3"
  },
  "language_info": {
   "codemirror_mode": {
    "name": "ipython",
    "version": 3
   },
   "file_extension": ".py",
   "mimetype": "text/x-python",
   "name": "python",
   "nbconvert_exporter": "python",
   "pygments_lexer": "ipython3",
   "version": "3.12.7"
  }
 },
 "nbformat": 4,
 "nbformat_minor": 5
}
