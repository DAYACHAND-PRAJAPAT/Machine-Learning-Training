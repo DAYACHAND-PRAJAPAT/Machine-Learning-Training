{
 "cells": [
  {
   "cell_type": "code",
   "execution_count": 1,
   "id": "4d786227",
   "metadata": {},
   "outputs": [],
   "source": [
    "import numpy as np\n"
   ]
  },
  {
   "cell_type": "code",
   "execution_count": 2,
   "id": "10a440b8",
   "metadata": {},
   "outputs": [
    {
     "data": {
      "text/plain": [
       "array([1, 2, 3, 4])"
      ]
     },
     "execution_count": 2,
     "metadata": {},
     "output_type": "execute_result"
    }
   ],
   "source": [
    "# Creating array\n",
    "arr1 = np.array([1,2,3,4])\n",
    "arr1"
   ]
  },
  {
   "cell_type": "code",
   "execution_count": 3,
   "id": "e5fa5024",
   "metadata": {},
   "outputs": [
    {
     "name": "stdout",
     "output_type": "stream",
     "text": [
      "[1 2 3 4 5 6 7 8 9]\n"
     ]
    },
    {
     "data": {
      "text/plain": [
       "7"
      ]
     },
     "execution_count": 3,
     "metadata": {},
     "output_type": "execute_result"
    }
   ],
   "source": [
    "# arange() function\n",
    "arr2 = np.arange(1,10)\n",
    "print(arr2)\n",
    "np.amax([1,2,3,4,5,6,7])"
   ]
  },
  {
   "cell_type": "code",
   "execution_count": 4,
   "id": "56a7251a",
   "metadata": {},
   "outputs": [
    {
     "name": "stdout",
     "output_type": "stream",
     "text": [
      "[1. 1. 1. 1. 1. 1.]\n",
      "[0. 0. 0. 0. 0. 0.]\n"
     ]
    }
   ],
   "source": [
    "# ones,zeros\n",
    "arr3 = np.ones(6)\n",
    "print(arr3)\n",
    "arr4 = np.zeros(6)\n",
    "print(arr4)"
   ]
  },
  {
   "cell_type": "code",
   "execution_count": 5,
   "id": "904a574c",
   "metadata": {},
   "outputs": [
    {
     "data": {
      "text/plain": [
       "array([ 1.        ,  1.47368421,  1.94736842,  2.42105263,  2.89473684,\n",
       "        3.36842105,  3.84210526,  4.31578947,  4.78947368,  5.26315789,\n",
       "        5.73684211,  6.21052632,  6.68421053,  7.15789474,  7.63157895,\n",
       "        8.10526316,  8.57894737,  9.05263158,  9.52631579, 10.        ])"
      ]
     },
     "execution_count": 5,
     "metadata": {},
     "output_type": "execute_result"
    }
   ],
   "source": [
    "arr5 = np.linspace(1,10,20)\n",
    "arr5"
   ]
  },
  {
   "cell_type": "code",
   "execution_count": 6,
   "id": "258e0724",
   "metadata": {},
   "outputs": [
    {
     "name": "stdout",
     "output_type": "stream",
     "text": [
      "[[0. 0. 0.]\n",
      " [0. 0. 0.]\n",
      " [0. 0. 0.]]\n",
      "[[ 1  2  3  4  5]\n",
      " [ 6  7  8  9 10]\n",
      " [11 12 13 14 15]\n",
      " [16 17 18 19 20]\n",
      " [21 22 23 24 25]\n",
      " [26 27 28 29 30]]\n"
     ]
    }
   ],
   "source": [
    "# 2D array\n",
    "arr6 = np.zeros((3,3))\n",
    "print(arr6)\n",
    "\n",
    "# reshape() function\n",
    "arr7 = np.arange(1,31).reshape(6,5)\n",
    "print(arr7)"
   ]
  },
  {
   "cell_type": "code",
   "execution_count": 7,
   "id": "4223e34c",
   "metadata": {},
   "outputs": [
    {
     "name": "stdout",
     "output_type": "stream",
     "text": [
      "[7 1 4 8 8 3]\n",
      "[[ 4  8  1  4  8  5]\n",
      " [10  7  9  1  7  6]]\n"
     ]
    }
   ],
   "source": [
    "arr8 = np.random.randint(1,10,6)\n",
    "print(arr8)\n",
    "\n",
    "arr9 = np.random.randint(1,11,(2,6))\n",
    "print(arr9)"
   ]
  },
  {
   "cell_type": "code",
   "execution_count": 8,
   "id": "0c45d12c",
   "metadata": {},
   "outputs": [
    {
     "name": "stdout",
     "output_type": "stream",
     "text": [
      "[[ 1  2  3  4  5  6  7  8  9 10]\n",
      " [11 12 13 14 15 16 17 18 19 20]\n",
      " [21 22 23 24 25 26 27 28 29 30]\n",
      " [31 32 33 34 35 36 37 38 39 40]\n",
      " [41 42 43 44 45 46 47 48 49 50]\n",
      " [51 52 53 54 55 56 57 58 59 60]]\n"
     ]
    }
   ],
   "source": [
    "arr10 = np.arange(1,61).reshape((6,10))\n",
    "print(arr10)"
   ]
  },
  {
   "cell_type": "code",
   "execution_count": 9,
   "id": "a2ab8d9a",
   "metadata": {},
   "outputs": [
    {
     "name": "stdout",
     "output_type": "stream",
     "text": [
      "(6, 10)\n",
      "int32\n",
      "2\n",
      "60\n"
     ]
    }
   ],
   "source": [
    "print(arr10.shape)\n",
    "print(arr10.dtype)\n",
    "print(arr10.ndim)\n",
    "print(arr10.size)"
   ]
  },
  {
   "cell_type": "code",
   "execution_count": 10,
   "id": "ab7921e5",
   "metadata": {},
   "outputs": [
    {
     "data": {
      "text/plain": [
       "array([ 1,  2,  3,  4,  5,  6,  7,  8,  9, 10, 11, 12, 13, 14, 15, 16, 17,\n",
       "       18, 19, 20, 21, 22, 23, 24, 25, 26, 27, 28, 29, 30, 31, 32, 33, 34,\n",
       "       35, 36, 37, 38, 39, 40, 41, 42, 43, 44, 45, 46, 47, 48, 49, 50, 51,\n",
       "       52, 53, 54, 55, 56, 57, 58, 59, 60])"
      ]
     },
     "execution_count": 10,
     "metadata": {},
     "output_type": "execute_result"
    }
   ],
   "source": [
    "# they both are used to covert higher order array to 1D\n",
    "arr10.flatten()\n",
    "arr10.ravel()"
   ]
  },
  {
   "cell_type": "code",
   "execution_count": 11,
   "id": "5f307025",
   "metadata": {},
   "outputs": [
    {
     "data": {
      "text/plain": [
       "array([[ 4, 10],\n",
       "       [ 8,  7],\n",
       "       [ 1,  9],\n",
       "       [ 4,  1],\n",
       "       [ 8,  7],\n",
       "       [ 5,  6]])"
      ]
     },
     "execution_count": 11,
     "metadata": {},
     "output_type": "execute_result"
    }
   ],
   "source": [
    "arr11 = arr9.T\n",
    "arr11"
   ]
  },
  {
   "cell_type": "code",
   "execution_count": 12,
   "id": "0cbb0b2d",
   "metadata": {},
   "outputs": [
    {
     "name": "stdout",
     "output_type": "stream",
     "text": [
      "[3 4 5 6 7 8]\n",
      "[[1 2 3 4]\n",
      " [5 6 7 8]]\n",
      "[2]\n"
     ]
    },
    {
     "data": {
      "text/plain": [
       "array([], shape=(0, 4), dtype=int32)"
      ]
     },
     "execution_count": 12,
     "metadata": {},
     "output_type": "execute_result"
    }
   ],
   "source": [
    "# Accessing and slicing in arrays\n",
    "## IN 1D\n",
    "arr12 = np.arange(1,11)\n",
    "arr12[9]=11\n",
    "arr12\n",
    "print(arr12[2:8])\n",
    "\n",
    "## In 2D\n",
    "arr13 = np.arange(1,21).reshape(5,4)\n",
    "arr13\n",
    "arr13[1]\n",
    "arr13[1][3]\n",
    "print(arr13[0:2,0:4])\n",
    "print(arr13[:1,1])\n",
    "arr13[-1:-3][-3:-1]"
   ]
  },
  {
   "cell_type": "code",
   "execution_count": 13,
   "id": "551b855c",
   "metadata": {},
   "outputs": [
    {
     "data": {
      "text/plain": [
       "array([[[9, 2, 3],\n",
       "        [3, 7, 2]],\n",
       "\n",
       "       [[1, 2, 1],\n",
       "        [2, 9, 5]],\n",
       "\n",
       "       [[5, 6, 4],\n",
       "        [1, 2, 3]],\n",
       "\n",
       "       [[2, 3, 7],\n",
       "        [7, 1, 5]],\n",
       "\n",
       "       [[6, 6, 2],\n",
       "        [6, 4, 6]],\n",
       "\n",
       "       [[5, 3, 3],\n",
       "        [3, 9, 6]]])"
      ]
     },
     "execution_count": 13,
     "metadata": {},
     "output_type": "execute_result"
    }
   ],
   "source": [
    "# Creating a 3D array\n",
    "\n",
    "arr14 = np.random.randint(1,10,(6,2,3))\n",
    "arr14"
   ]
  },
  {
   "cell_type": "code",
   "execution_count": 14,
   "id": "2f8a3614",
   "metadata": {},
   "outputs": [
    {
     "name": "stdout",
     "output_type": "stream",
     "text": [
      "[[[ 1  2]\n",
      "  [ 3  4]]\n",
      "\n",
      " [[ 5  6]\n",
      "  [ 7  8]]\n",
      "\n",
      " [[ 9 10]\n",
      "  [11 12]]\n",
      "\n",
      " [[13 14]\n",
      "  [15 16]]\n",
      "\n",
      " [[17 18]\n",
      "  [19 20]]]\n"
     ]
    },
    {
     "data": {
      "text/plain": [
       "array([ 2,  6, 10, 14, 18])"
      ]
     },
     "execution_count": 14,
     "metadata": {},
     "output_type": "execute_result"
    }
   ],
   "source": [
    "arr15 = np.arange(1,21).reshape(5,2,2)\n",
    "print(arr15)\n",
    "\n",
    "arr15[0:2,0:1,]\n",
    "arr15[0:5,0,1]"
   ]
  }
 ],
 "metadata": {
  "kernelspec": {
   "display_name": "base",
   "language": "python",
   "name": "python3"
  },
  "language_info": {
   "codemirror_mode": {
    "name": "ipython",
    "version": 3
   },
   "file_extension": ".py",
   "mimetype": "text/x-python",
   "name": "python",
   "nbconvert_exporter": "python",
   "pygments_lexer": "ipython3",
   "version": "3.12.7"
  }
 },
 "nbformat": 4,
 "nbformat_minor": 5
}
